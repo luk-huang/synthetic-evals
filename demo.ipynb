{
 "cells": [
  {
   "cell_type": "code",
   "execution_count": 50,
   "id": "2f66e504",
   "metadata": {},
   "outputs": [],
   "source": [
    "import anthropic\n",
    "import pandas as pd\n",
    "import json\n",
    "import duckdb\n",
    "from pydantic import BaseModel, Field\n",
    "from IPython.display import Markdown\n",
    "from dotenv import load_dotenv\n",
    "import os\n",
    "from langchain_anthropic import ChatAnthropic\n",
    "from langchain_core.prompts import ChatPromptTemplate\n",
    "from langchain_core.output_parsers import PydanticOutputParser\n",
    "from langchain.agents import create_tool_calling_agent, AgentExecutor\n",
    "import textwrap\n",
    "\n",
    "\n",
    "load_dotenv()\n",
    "\n",
    "ANTHROPIC_API_KEY = os.getenv('ANTHROPIC_API_KEY')\n",
    "from typing import List"
   ]
  },
  {
   "cell_type": "code",
   "execution_count": 51,
   "id": "225a0d7e",
   "metadata": {},
   "outputs": [],
   "source": [
    "from utils.codebase_utils import get_file_hierarchy\n",
    "class QandAResponse(BaseModel):\n",
    "    answer: str = Field(description=\"The answer to the question \")\n",
    "    sources: List[str] = Field(description=\"The sources used to answer the question\")\n",
    "    tools_used: List[str] = Field(description=\"The tools used to answer the question\")\n",
    "\n",
    "parser = PydanticOutputParser(pydantic_object=QandAResponse)\n",
    "\n",
    "codebase_path = os.getenv(\"CAL_COM_REPO_PATH\")\n",
    "\n",
    "codebase_hierarchy = get_file_hierarchy(codebase_path)\n",
    "\n",
    "prompt = ChatPromptTemplate.from_messages([\n",
    "    (\"system\", \"You are a  experienced senior engineer that can answer questions about the codebase and provide reasoning for the answer. \\n{format_instructions}\"),\n",
    "    (\"placeholder\", \"{chat_history}\"),\n",
    "    (\"user\", \"{codebase_hierarchy}\"),\n",
    "    (\"user\", \"{query}\"),\n",
    "    (\"placeholder\", \"{agent_scratchpad}\")\n",
    "]).partial(format_instructions=parser.get_format_instructions())\n",
    "\n",
    "\n",
    "\n",
    "\n"
   ]
  },
  {
   "cell_type": "code",
   "execution_count": 52,
   "id": "e8951506",
   "metadata": {},
   "outputs": [
    {
     "ename": "ImportError",
     "evalue": "cannot import name 'save_file_tool' from 'utils.tools' (/Users/lukehuang/Documents/projects/agentic-coding-evals/utils/tools.py)",
     "output_type": "error",
     "traceback": [
      "\u001b[31m---------------------------------------------------------------------------\u001b[39m",
      "\u001b[31mImportError\u001b[39m                               Traceback (most recent call last)",
      "\u001b[36mCell\u001b[39m\u001b[36m \u001b[39m\u001b[32mIn[52]\u001b[39m\u001b[32m, line 1\u001b[39m\n\u001b[32m----> \u001b[39m\u001b[32m1\u001b[39m \u001b[38;5;28;01mfrom\u001b[39;00m\u001b[38;5;250m \u001b[39m\u001b[34;01mutils\u001b[39;00m\u001b[34;01m.\u001b[39;00m\u001b[34;01mtools\u001b[39;00m\u001b[38;5;250m \u001b[39m\u001b[38;5;28;01mimport\u001b[39;00m read_file_tool, save_file_tool\n\u001b[32m      3\u001b[39m llm = ChatAnthropic(\n\u001b[32m      4\u001b[39m     api_key=ANTHROPIC_API_KEY,\n\u001b[32m      5\u001b[39m     timeout=\u001b[38;5;28;01mNone\u001b[39;00m,\n\u001b[32m      6\u001b[39m     stop=\u001b[38;5;28;01mNone\u001b[39;00m,\n\u001b[32m      7\u001b[39m     model_name=\u001b[33m'\u001b[39m\u001b[33mclaude-3-5-sonnet-20240620\u001b[39m\u001b[33m'\u001b[39m,\n\u001b[32m      8\u001b[39m )\n\u001b[32m     10\u001b[39m QandA_Agent = create_tool_calling_agent(\n\u001b[32m     11\u001b[39m     llm = llm, \n\u001b[32m     12\u001b[39m     prompt = prompt, \n\u001b[32m     13\u001b[39m     tools = [read_file_tool, save_file_tool]\n\u001b[32m     14\u001b[39m )\n",
      "\u001b[31mImportError\u001b[39m: cannot import name 'save_file_tool' from 'utils.tools' (/Users/lukehuang/Documents/projects/agentic-coding-evals/utils/tools.py)"
     ]
    }
   ],
   "source": [
    "from utils.tools import read_file_tool, save_file_tool\n",
    "\n",
    "llm = ChatAnthropic(\n",
    "    api_key=ANTHROPIC_API_KEY,\n",
    "    timeout=None,\n",
    "    stop=None,\n",
    "    model_name='claude-3-5-sonnet-20240620',\n",
    ")\n",
    "\n",
    "QandA_Agent = create_tool_calling_agent(\n",
    "    llm = llm, \n",
    "    prompt = prompt, \n",
    "    tools = [read_file_tool, save_file_tool]\n",
    ")\n",
    "\n",
    "agent_executor = AgentExecutor(agent=QandA_Agent, tools=[], verbose=True)\n",
    "raw_response = agent_executor.invoke({\n",
    "    \"query\": \"What is the API system of this codebase? Look at the files and get the code inside two files and save it to a file inside log/\",\n",
    "    \"codebase_hierarchy\": codebase_hierarchy\n",
    "})\n",
    "stuctured_response = parser.parse(raw_response['output'][0][\"text\"])\n",
    "print(textwrap.fill(str(stuctured_response)))"
   ]
  },
  {
   "cell_type": "code",
   "execution_count": 16,
   "id": "1224b864",
   "metadata": {},
   "outputs": [
    {
     "name": "stdout",
     "output_type": "stream",
     "text": [
      "content=\"Certainly! Here's a Python function to calculate the Greatest Common Divisor (GCD) of two numbers a and b using the Euclidean algorithm:\\n\\n```python\\ndef gcd(a, b):\\n    while b:\\n        a, b = b, a % b\\n    return abs(a)\\n```\\n\\nThis function implements the Euclidean algorithm, which is an efficient method for computing the GCD. Here's how it works:\\n\\n1. The function takes two parameters, `a` and `b`.\\n2. It uses a while loop that continues as long as `b` is not zero.\\n3. In each iteration, it updates `a` to be the previous value of `b`, and `b` to be the remainder of `a` divided by `b`.\\n4. When `b` becomes zero, the loop ends, and `a` contains the GCD.\\n5. The function returns the absolute value of `a` to handle negative inputs.\\n\\nYou can use this function like this:\\n\\n```python\\n# Example usage\\nresult = gcd(48, 18)\\nprint(result)  # Output: 6\\n\\nresult = gcd(100, 75)\\nprint(result)  # Output: 25\\n\\nresult = gcd(-30, 45)\\nprint(result)  # Output: 15\\n```\\n\\nThis implementation works for both positive and negative integers. If you need to find the GCD of more than two numbers, you can call this function repeatedly:\\n\\n```python\\ndef gcd_multiple(*args):\\n    result = args[0]\\n    for i in args[1:]:\\n        result = gcd(result, i)\\n    return result\\n\\n# Example usage\\nresult = gcd_multiple(48, 18, 60)\\nprint(result)  # Output: 6\\n```\\n\\nThis extended function `gcd_multiple` can take any number of arguments and compute their GCD.\" additional_kwargs={} response_metadata={'id': 'msg_012vrXuscJYAngMBkLa8Aa22', 'model': 'claude-3-5-sonnet-20240620', 'stop_reason': 'end_turn', 'stop_sequence': None, 'usage': {'cache_creation_input_tokens': 0, 'cache_read_input_tokens': 0, 'input_tokens': 22, 'output_tokens': 433, 'server_tool_use': None, 'service_tier': 'standard'}, 'model_name': 'claude-3-5-sonnet-20240620'} id='run--efe95e26-2b3f-4986-8e6c-c8e2ef58a739-0' usage_metadata={'input_tokens': 22, 'output_tokens': 433, 'total_tokens': 455, 'input_token_details': {'cache_read': 0, 'cache_creation': 0}}\n"
     ]
    }
   ],
   "source": [
    "print(response)"
   ]
  },
  {
   "cell_type": "code",
   "execution_count": 6,
   "id": "587a60b7",
   "metadata": {},
   "outputs": [],
   "source": [
    "from openai import OpenAI\n",
    "import pandas as pd\n",
    "import json\n",
    "import duckdb\n",
    "from pydantic import BaseModel, Field\n",
    "from IPython.display import Markdown\n",
    "\n"
   ]
  },
  {
   "cell_type": "code",
   "execution_count": 1,
   "id": "e275c1c6",
   "metadata": {},
   "outputs": [
    {
     "name": "stdout",
     "output_type": "stream",
     "text": [
      "None\n"
     ]
    }
   ],
   "source": [
    "import os\n",
    "\n",
    "api_key = os.getenv(\"OPENAI_API_KEY\")\n",
    "\n",
    "print(api_key)"
   ]
  },
  {
   "cell_type": "code",
   "execution_count": 4,
   "id": "abbfeca0",
   "metadata": {},
   "outputs": [],
   "source": [
    "client = OpenAI(api_key=api_key)\n",
    "MODEL = 'gpt-4o-mini'"
   ]
  },
  {
   "cell_type": "code",
   "execution_count": null,
   "id": "8710490d",
   "metadata": {},
   "outputs": [],
   "source": [
    "TRANSACTION_DATA_FILE_PATH='data/Store_Sales_Price_Elasticity_Promotions_Data.parquet'"
   ]
  }
 ],
 "metadata": {
  "kernelspec": {
   "display_name": "agent",
   "language": "python",
   "name": "python3"
  },
  "language_info": {
   "codemirror_mode": {
    "name": "ipython",
    "version": 3
   },
   "file_extension": ".py",
   "mimetype": "text/x-python",
   "name": "python",
   "nbconvert_exporter": "python",
   "pygments_lexer": "ipython3",
   "version": "3.13.2"
  }
 },
 "nbformat": 4,
 "nbformat_minor": 5
}
